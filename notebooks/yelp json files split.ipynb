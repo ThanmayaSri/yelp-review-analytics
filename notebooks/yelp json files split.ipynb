{
 "cells": [
  {
   "cell_type": "code",
   "execution_count": 1,
   "id": "47afda10-dada-4fc4-8daa-a4bd62ee761f",
   "metadata": {},
   "outputs": [
    {
     "name": "stdout",
     "output_type": "stream",
     "text": [
      "total_lines: 6990280,lines_per_file: 349514\n",
      "json file successfully split into smaller files\n"
     ]
    }
   ],
   "source": [
    "import json\n",
    "input_file = 'C:/Users/thanm/Downloads/Yelp-JSON/yelp_academic_dataset_review.json'\n",
    "output_preffix = 'split_file_'\n",
    "num_files = 20\n",
    "\n",
    "with open(input_file,'r',encoding = 'utf8') as f:\n",
    "    total_lines = sum(1 for _ in f)\n",
    "    lines_per_file = total_lines // num_files\n",
    "print(f'total_lines: {total_lines},lines_per_file: {lines_per_file}')\n",
    "\n",
    "with open(input_file,'r',encoding = 'utf8') as f:\n",
    "    for i in range(num_files):\n",
    "        output_file = f'{output_preffix}{i+1}.json'\n",
    "        \n",
    "        with open(output_file,'w',encoding = 'utf8') as op_file:\n",
    "            for j in range(lines_per_file):\n",
    "                line = f.readline()\n",
    "                if not line:\n",
    "                    break\n",
    "                op_file.write(line)\n",
    "\n",
    "print('json file successfully split into smaller files')"
   ]
  },
  {
   "cell_type": "code",
   "execution_count": null,
   "id": "2d63ccff-339d-43c8-b909-d96dde9cb405",
   "metadata": {},
   "outputs": [],
   "source": []
  }
 ],
 "metadata": {
  "kernelspec": {
   "display_name": "Python 3 (ipykernel)",
   "language": "python",
   "name": "python3"
  },
  "language_info": {
   "codemirror_mode": {
    "name": "ipython",
    "version": 3
   },
   "file_extension": ".py",
   "mimetype": "text/x-python",
   "name": "python",
   "nbconvert_exporter": "python",
   "pygments_lexer": "ipython3",
   "version": "3.12.4"
  }
 },
 "nbformat": 4,
 "nbformat_minor": 5
}
